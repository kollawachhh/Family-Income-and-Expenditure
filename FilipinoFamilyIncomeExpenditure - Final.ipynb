{
 "cells": [
  {
   "cell_type": "code",
   "execution_count": 1,
   "metadata": {},
   "outputs": [],
   "source": [
    "import pandas as pd\n",
    "import datetime as dt\n",
    "import seaborn as sns\n",
    "import numpy as np\n",
    "import matplotlib.pyplot as plt\n",
    "from sklearn.linear_model import LinearRegression\n",
    "from sklearn import model_selection\n",
    "from sklearn.model_selection import train_test_split\n",
    "from sklearn.model_selection import train_test_split\n",
    "from sklearn.metrics import mean_absolute_error\n",
    "from sklearn.metrics import mean_squared_error\n",
    "fie = pd.read_csv(\"../Family Income and Expenditure.csv\")"
   ]
  },
  {
   "cell_type": "markdown",
   "metadata": {},
   "source": [
    "## 1. รายชื่อกลุ่ม \n",
    "\n",
    "- นายกลวัชร เสถียรเสรีสุข  6210450016\n",
    "- นายเกียรติกุล ทองอุดม    6210450032\n",
    "- นานชาญวิทย์ สายสิญจน์  6210450521\n",
    "- น.ส.ณัฎฐกานต์ อรสุนทร   6210451144\n",
    "- น.ส.ธันวพร ธรรมเจริญพงศ์ 6210451225"
   ]
  },
  {
   "cell_type": "markdown",
   "metadata": {},
   "source": [
    "## 2. รายละเอียดข้อมูล และการทำความสะอาดข้อมูล ##\n",
    "\n",
    "**คำอธิบายข้อมูล**\n",
    "- เป็นการเก็บข้อมูลที่ได้จากการสำรวจรายได้และรายจ่ายของแต่ละครอบครัว ในฟิลิปปินส์ มีประมาณ 40,000 กว่าครัวเรือน โดยเก็บข้อมูลทุกๆ 3 ปี\n",
    "\n",
    "**แหล่งที่มาของข้อมูล**\n",
    "- https://www.kaggle.com/grosvenpaul/family-income-and-expenditure\n",
    "\n",
    "**เก็บรวบรวมโดย**\n",
    "- Francis Paul Flores\n",
    "\n",
    "**รายละเอียดคอลัมน์(สนใจแค่คอลัมน์ที่เกี่ยวกับรายรับรายจ่าย และข้อมูลของครอบครัว)**\n",
    "1. Total Household Income - รายได้ทั้งหมดของแต่ละครัวเรือน type(int)\n",
    "2. Region - ภูมิภาคของแต่ละครัวเรือน type(object)\n",
    "3. Total Food Expenditure - รายจ่ายทั้งหมดที่ใช้กับอาหาร type(int)\n",
    "4. Main Source of Income - แหล่งรายได้หลัก type(object)\n",
    "5. Agricultural Household indicator - ตัวบ่งชี้ครัวเรือนเกษตร type(int)\n",
    "6. Bread and Cereals Expenditure - รายจ่ายที่ใช้กับขนมปังและธัญพืช type(int)\n",
    "7. Total Rice Expenditure - รายจ่ายทั้งหมดที่ใช้กับข้าวtype(int)\n",
    "8. Meat Expenditure - รายจ่ายทั้งหมดที่ใช้กับเนื้อ type(int)\n",
    "9. Total Fish and marine products Expenditure - รายจ่ายทั้งหมดที่ใช้กับปลาและภลิตภัณฑ์ที่ทำจากทะเล type(int)\n",
    "10. Fruit Expenditure - รายจ่ายที่ใช้กับผลไม้ type(int)\n",
    "11. Vegetables Expenditure - รายจ่ายที่ใช้กับผัก type(int)\n",
    "12. Restaurant and hotels Expenditure - รายจ่ายที่ใช้กับร้านอาหารและโรงแรม type(int)\n",
    "13. Alcoholic Beverages Expenditure - รายจ่ายที่ใช้กับเครื่องดื่มแอลกอฮอล์ type(int)\n",
    "14. Tobacco Expenditure - ค่าใช้จ่ายที่ใช้กับยาสูบ type(int)\n",
    "15. Clothing, Footwear and Other Wear Expenditure - รายจ่ายที่ใช้กับเสื้อผ้า รองเท้า และเครื่องแต่งกายอื่นๆ type(int)\n",
    "16. Housing and water Expenditure - ค่าใช้จ่ายที่เกี่ยวกับค่าน้ำและค่าไฟ type(int)\n",
    "17. Imputed House Rental Value - ค่าเช่าบ้าน type(int)\n",
    "18. Medical Care Expenditure - รายจ่ายที่ใช้กับค่ารักษาพยาบาล type(int)\n",
    "19. Transportation Expenditure - รายจ่ายที่ใช้กับการเดินทาง type(int)\n",
    "20. Communication Expenditure - ค่าใช้จ่ายในกาสื่อสาร type(int)\n",
    "21. Education Expenditure - รายจ่ายที่ใช้กับการษึกษาเล่าเรียน type(int)\n",
    "22. Miscellaneous Goods and Services Expenditure - รายจ่ายที่ใช้กับสินค้าและบริการเบ็ดเตล็ด type(int)\n",
    "23. Special Occasions Expenditure - รายจ่ายที่ใช้ในโอกาสพิเศษ type(int)\n",
    "24. Crop Farming and Gardening expenses - รายจ่ายที่ใช้กับการปลูกพืชและการทำสวน type(int)\n",
    "25. Total Income from Entrepreneurial Acitivites - รายได้รวมจากกิจกรรมผู้ประกอบการ type(int)\n",
    "26. Household Head Sex - เพศของหัวหน้าครั้วเรือน type(object)\n",
    "27. Household Head Age - อายุของหัวหน้าครัวเรือน type(int)\n",
    "28. Household Head Marital Status - สถานภาพการสมรสของหัวหน้าครัวเรือน type(object)\n",
    "29. Household Head Highest Grade Completed - การจบการศึกษาของหัวหน้าครัวเรือน type(object)\n",
    "30. Household Head Job or Business Indicator - งานหรือธุรกิจของหัวหน้าครัวเรือน type(object)\n",
    "31. Household Head Occupation - อาชัพของหัวหน้าครอบครัว type(object)\n",
    "32. Household Head Class of Worker\ttype(object)\n",
    "33. Type of Household - ประเภทของครัวเรือน type(object)\n",
    "34. Total Number of Family members -  จำนวนสมาชิกของแต่ละครัวเรือน type(int)\n",
    "35. Members with age less than 5 year old - \n",
    "36. Members with age 5 - 17 years old - \n",
    "37. Total number of family members employed - \n",
    "38. Type of Building/House - \n",
    "39. Type of Roof - \n",
    "40. Type of Walls - \n",
    "41. House Floor Area - \n",
    "42. House Age - \n",
    "43. Number of bedrooms - \n",
    "44. Tenure Status - \n",
    "45. Toilet Facilities - \n",
    "46. Electricity - \n",
    "47. Main Source of Water Supply -\n",
    "48. Number of Television - \n",
    "49. Number of CD/VCD/DVD - \n",
    "50. Number of Component/Stereo set - \n",
    "51. Number of Refrigerator/Freezer - \n",
    "52. Number of Washing Machine - \n",
    "53. Number of Airconditioner - \n",
    "54. Number of Car, Jeep, Van - \n",
    "55. Number of Landline/wireless telephones - \n",
    "56. Number of Cellular phone - \n",
    "57. Number of Personal Computer - \n",
    "58. Number of Stove with Oven/Gas Range - \n",
    "59. Number of Motorized Banca - \n",
    "60. Number of Motorcycle/Tricycle - "
   ]
  },
  {
   "cell_type": "code",
   "execution_count": 2,
   "metadata": {
    "scrolled": true
   },
   "outputs": [
    {
     "data": {
      "text/html": [
       "<div>\n",
       "<style scoped>\n",
       "    .dataframe tbody tr th:only-of-type {\n",
       "        vertical-align: middle;\n",
       "    }\n",
       "\n",
       "    .dataframe tbody tr th {\n",
       "        vertical-align: top;\n",
       "    }\n",
       "\n",
       "    .dataframe thead th {\n",
       "        text-align: right;\n",
       "    }\n",
       "</style>\n",
       "<table border=\"1\" class=\"dataframe\">\n",
       "  <thead>\n",
       "    <tr style=\"text-align: right;\">\n",
       "      <th></th>\n",
       "      <th>Total Household Income</th>\n",
       "      <th>Region</th>\n",
       "      <th>Total Food Expenditure</th>\n",
       "      <th>Main Source of Income</th>\n",
       "      <th>Agricultural Household indicator</th>\n",
       "      <th>Bread and Cereals Expenditure</th>\n",
       "      <th>Total Rice Expenditure</th>\n",
       "      <th>Meat Expenditure</th>\n",
       "      <th>Total Fish and  marine products Expenditure</th>\n",
       "      <th>Fruit Expenditure</th>\n",
       "      <th>...</th>\n",
       "      <th>Number of Refrigerator/Freezer</th>\n",
       "      <th>Number of Washing Machine</th>\n",
       "      <th>Number of Airconditioner</th>\n",
       "      <th>Number of Car, Jeep, Van</th>\n",
       "      <th>Number of Landline/wireless telephones</th>\n",
       "      <th>Number of Cellular phone</th>\n",
       "      <th>Number of Personal Computer</th>\n",
       "      <th>Number of Stove with Oven/Gas Range</th>\n",
       "      <th>Number of Motorized Banca</th>\n",
       "      <th>Number of Motorcycle/Tricycle</th>\n",
       "    </tr>\n",
       "  </thead>\n",
       "  <tbody>\n",
       "    <tr>\n",
       "      <th>0</th>\n",
       "      <td>480332</td>\n",
       "      <td>CAR</td>\n",
       "      <td>117848</td>\n",
       "      <td>Wage/Salaries</td>\n",
       "      <td>0</td>\n",
       "      <td>42140</td>\n",
       "      <td>38300</td>\n",
       "      <td>24676</td>\n",
       "      <td>16806</td>\n",
       "      <td>3325</td>\n",
       "      <td>...</td>\n",
       "      <td>1</td>\n",
       "      <td>1</td>\n",
       "      <td>0</td>\n",
       "      <td>0</td>\n",
       "      <td>0</td>\n",
       "      <td>2</td>\n",
       "      <td>1</td>\n",
       "      <td>0</td>\n",
       "      <td>0</td>\n",
       "      <td>1</td>\n",
       "    </tr>\n",
       "    <tr>\n",
       "      <th>1</th>\n",
       "      <td>198235</td>\n",
       "      <td>CAR</td>\n",
       "      <td>67766</td>\n",
       "      <td>Wage/Salaries</td>\n",
       "      <td>0</td>\n",
       "      <td>17329</td>\n",
       "      <td>13008</td>\n",
       "      <td>17434</td>\n",
       "      <td>11073</td>\n",
       "      <td>2035</td>\n",
       "      <td>...</td>\n",
       "      <td>0</td>\n",
       "      <td>1</td>\n",
       "      <td>0</td>\n",
       "      <td>0</td>\n",
       "      <td>0</td>\n",
       "      <td>3</td>\n",
       "      <td>1</td>\n",
       "      <td>0</td>\n",
       "      <td>0</td>\n",
       "      <td>2</td>\n",
       "    </tr>\n",
       "    <tr>\n",
       "      <th>2</th>\n",
       "      <td>82785</td>\n",
       "      <td>CAR</td>\n",
       "      <td>61609</td>\n",
       "      <td>Wage/Salaries</td>\n",
       "      <td>1</td>\n",
       "      <td>34182</td>\n",
       "      <td>32001</td>\n",
       "      <td>7783</td>\n",
       "      <td>2590</td>\n",
       "      <td>1730</td>\n",
       "      <td>...</td>\n",
       "      <td>0</td>\n",
       "      <td>0</td>\n",
       "      <td>0</td>\n",
       "      <td>0</td>\n",
       "      <td>0</td>\n",
       "      <td>0</td>\n",
       "      <td>0</td>\n",
       "      <td>0</td>\n",
       "      <td>0</td>\n",
       "      <td>0</td>\n",
       "    </tr>\n",
       "    <tr>\n",
       "      <th>3</th>\n",
       "      <td>107589</td>\n",
       "      <td>CAR</td>\n",
       "      <td>78189</td>\n",
       "      <td>Wage/Salaries</td>\n",
       "      <td>0</td>\n",
       "      <td>34030</td>\n",
       "      <td>28659</td>\n",
       "      <td>10914</td>\n",
       "      <td>10812</td>\n",
       "      <td>690</td>\n",
       "      <td>...</td>\n",
       "      <td>0</td>\n",
       "      <td>0</td>\n",
       "      <td>0</td>\n",
       "      <td>0</td>\n",
       "      <td>0</td>\n",
       "      <td>1</td>\n",
       "      <td>0</td>\n",
       "      <td>0</td>\n",
       "      <td>0</td>\n",
       "      <td>0</td>\n",
       "    </tr>\n",
       "    <tr>\n",
       "      <th>4</th>\n",
       "      <td>189322</td>\n",
       "      <td>CAR</td>\n",
       "      <td>94625</td>\n",
       "      <td>Wage/Salaries</td>\n",
       "      <td>0</td>\n",
       "      <td>34820</td>\n",
       "      <td>30167</td>\n",
       "      <td>18391</td>\n",
       "      <td>11309</td>\n",
       "      <td>1395</td>\n",
       "      <td>...</td>\n",
       "      <td>1</td>\n",
       "      <td>0</td>\n",
       "      <td>0</td>\n",
       "      <td>0</td>\n",
       "      <td>0</td>\n",
       "      <td>3</td>\n",
       "      <td>0</td>\n",
       "      <td>0</td>\n",
       "      <td>0</td>\n",
       "      <td>1</td>\n",
       "    </tr>\n",
       "    <tr>\n",
       "      <th>...</th>\n",
       "      <td>...</td>\n",
       "      <td>...</td>\n",
       "      <td>...</td>\n",
       "      <td>...</td>\n",
       "      <td>...</td>\n",
       "      <td>...</td>\n",
       "      <td>...</td>\n",
       "      <td>...</td>\n",
       "      <td>...</td>\n",
       "      <td>...</td>\n",
       "      <td>...</td>\n",
       "      <td>...</td>\n",
       "      <td>...</td>\n",
       "      <td>...</td>\n",
       "      <td>...</td>\n",
       "      <td>...</td>\n",
       "      <td>...</td>\n",
       "      <td>...</td>\n",
       "      <td>...</td>\n",
       "      <td>...</td>\n",
       "      <td>...</td>\n",
       "    </tr>\n",
       "    <tr>\n",
       "      <th>41539</th>\n",
       "      <td>119773</td>\n",
       "      <td>XII - SOCCSKSARGEN</td>\n",
       "      <td>44875</td>\n",
       "      <td>Enterpreneurial Activities</td>\n",
       "      <td>1</td>\n",
       "      <td>23675</td>\n",
       "      <td>21542</td>\n",
       "      <td>1476</td>\n",
       "      <td>6120</td>\n",
       "      <td>1632</td>\n",
       "      <td>...</td>\n",
       "      <td>0</td>\n",
       "      <td>0</td>\n",
       "      <td>0</td>\n",
       "      <td>0</td>\n",
       "      <td>0</td>\n",
       "      <td>1</td>\n",
       "      <td>0</td>\n",
       "      <td>0</td>\n",
       "      <td>0</td>\n",
       "      <td>0</td>\n",
       "    </tr>\n",
       "    <tr>\n",
       "      <th>41540</th>\n",
       "      <td>137320</td>\n",
       "      <td>XII - SOCCSKSARGEN</td>\n",
       "      <td>31157</td>\n",
       "      <td>Enterpreneurial Activities</td>\n",
       "      <td>1</td>\n",
       "      <td>2691</td>\n",
       "      <td>1273</td>\n",
       "      <td>1886</td>\n",
       "      <td>4386</td>\n",
       "      <td>1840</td>\n",
       "      <td>...</td>\n",
       "      <td>0</td>\n",
       "      <td>0</td>\n",
       "      <td>0</td>\n",
       "      <td>0</td>\n",
       "      <td>0</td>\n",
       "      <td>3</td>\n",
       "      <td>0</td>\n",
       "      <td>0</td>\n",
       "      <td>0</td>\n",
       "      <td>0</td>\n",
       "    </tr>\n",
       "    <tr>\n",
       "      <th>41541</th>\n",
       "      <td>133171</td>\n",
       "      <td>XII - SOCCSKSARGEN</td>\n",
       "      <td>45882</td>\n",
       "      <td>Enterpreneurial Activities</td>\n",
       "      <td>2</td>\n",
       "      <td>28646</td>\n",
       "      <td>27339</td>\n",
       "      <td>480</td>\n",
       "      <td>4796</td>\n",
       "      <td>1232</td>\n",
       "      <td>...</td>\n",
       "      <td>0</td>\n",
       "      <td>0</td>\n",
       "      <td>0</td>\n",
       "      <td>0</td>\n",
       "      <td>0</td>\n",
       "      <td>1</td>\n",
       "      <td>0</td>\n",
       "      <td>0</td>\n",
       "      <td>0</td>\n",
       "      <td>0</td>\n",
       "    </tr>\n",
       "    <tr>\n",
       "      <th>41542</th>\n",
       "      <td>129500</td>\n",
       "      <td>XII - SOCCSKSARGEN</td>\n",
       "      <td>81416</td>\n",
       "      <td>Enterpreneurial Activities</td>\n",
       "      <td>1</td>\n",
       "      <td>29996</td>\n",
       "      <td>26655</td>\n",
       "      <td>2359</td>\n",
       "      <td>17730</td>\n",
       "      <td>2923</td>\n",
       "      <td>...</td>\n",
       "      <td>0</td>\n",
       "      <td>0</td>\n",
       "      <td>0</td>\n",
       "      <td>0</td>\n",
       "      <td>0</td>\n",
       "      <td>2</td>\n",
       "      <td>0</td>\n",
       "      <td>0</td>\n",
       "      <td>0</td>\n",
       "      <td>0</td>\n",
       "    </tr>\n",
       "    <tr>\n",
       "      <th>41543</th>\n",
       "      <td>128598</td>\n",
       "      <td>XII - SOCCSKSARGEN</td>\n",
       "      <td>78195</td>\n",
       "      <td>Enterpreneurial Activities</td>\n",
       "      <td>1</td>\n",
       "      <td>43485</td>\n",
       "      <td>41205</td>\n",
       "      <td>1985</td>\n",
       "      <td>7735</td>\n",
       "      <td>2062</td>\n",
       "      <td>...</td>\n",
       "      <td>0</td>\n",
       "      <td>0</td>\n",
       "      <td>0</td>\n",
       "      <td>0</td>\n",
       "      <td>0</td>\n",
       "      <td>1</td>\n",
       "      <td>0</td>\n",
       "      <td>0</td>\n",
       "      <td>0</td>\n",
       "      <td>0</td>\n",
       "    </tr>\n",
       "  </tbody>\n",
       "</table>\n",
       "<p>41544 rows × 60 columns</p>\n",
       "</div>"
      ],
      "text/plain": [
       "       Total Household Income              Region  Total Food Expenditure  \\\n",
       "0                      480332                 CAR                  117848   \n",
       "1                      198235                 CAR                   67766   \n",
       "2                       82785                 CAR                   61609   \n",
       "3                      107589                 CAR                   78189   \n",
       "4                      189322                 CAR                   94625   \n",
       "...                       ...                 ...                     ...   \n",
       "41539                  119773  XII - SOCCSKSARGEN                   44875   \n",
       "41540                  137320  XII - SOCCSKSARGEN                   31157   \n",
       "41541                  133171  XII - SOCCSKSARGEN                   45882   \n",
       "41542                  129500  XII - SOCCSKSARGEN                   81416   \n",
       "41543                  128598  XII - SOCCSKSARGEN                   78195   \n",
       "\n",
       "            Main Source of Income  Agricultural Household indicator  \\\n",
       "0                   Wage/Salaries                                 0   \n",
       "1                   Wage/Salaries                                 0   \n",
       "2                   Wage/Salaries                                 1   \n",
       "3                   Wage/Salaries                                 0   \n",
       "4                   Wage/Salaries                                 0   \n",
       "...                           ...                               ...   \n",
       "41539  Enterpreneurial Activities                                 1   \n",
       "41540  Enterpreneurial Activities                                 1   \n",
       "41541  Enterpreneurial Activities                                 2   \n",
       "41542  Enterpreneurial Activities                                 1   \n",
       "41543  Enterpreneurial Activities                                 1   \n",
       "\n",
       "       Bread and Cereals Expenditure  Total Rice Expenditure  \\\n",
       "0                              42140                   38300   \n",
       "1                              17329                   13008   \n",
       "2                              34182                   32001   \n",
       "3                              34030                   28659   \n",
       "4                              34820                   30167   \n",
       "...                              ...                     ...   \n",
       "41539                          23675                   21542   \n",
       "41540                           2691                    1273   \n",
       "41541                          28646                   27339   \n",
       "41542                          29996                   26655   \n",
       "41543                          43485                   41205   \n",
       "\n",
       "       Meat Expenditure  Total Fish and  marine products Expenditure  \\\n",
       "0                 24676                                        16806   \n",
       "1                 17434                                        11073   \n",
       "2                  7783                                         2590   \n",
       "3                 10914                                        10812   \n",
       "4                 18391                                        11309   \n",
       "...                 ...                                          ...   \n",
       "41539              1476                                         6120   \n",
       "41540              1886                                         4386   \n",
       "41541               480                                         4796   \n",
       "41542              2359                                        17730   \n",
       "41543              1985                                         7735   \n",
       "\n",
       "       Fruit Expenditure  ...  Number of Refrigerator/Freezer  \\\n",
       "0                   3325  ...                               1   \n",
       "1                   2035  ...                               0   \n",
       "2                   1730  ...                               0   \n",
       "3                    690  ...                               0   \n",
       "4                   1395  ...                               1   \n",
       "...                  ...  ...                             ...   \n",
       "41539               1632  ...                               0   \n",
       "41540               1840  ...                               0   \n",
       "41541               1232  ...                               0   \n",
       "41542               2923  ...                               0   \n",
       "41543               2062  ...                               0   \n",
       "\n",
       "       Number of Washing Machine  Number of Airconditioner  \\\n",
       "0                              1                         0   \n",
       "1                              1                         0   \n",
       "2                              0                         0   \n",
       "3                              0                         0   \n",
       "4                              0                         0   \n",
       "...                          ...                       ...   \n",
       "41539                          0                         0   \n",
       "41540                          0                         0   \n",
       "41541                          0                         0   \n",
       "41542                          0                         0   \n",
       "41543                          0                         0   \n",
       "\n",
       "       Number of Car, Jeep, Van  Number of Landline/wireless telephones  \\\n",
       "0                             0                                       0   \n",
       "1                             0                                       0   \n",
       "2                             0                                       0   \n",
       "3                             0                                       0   \n",
       "4                             0                                       0   \n",
       "...                         ...                                     ...   \n",
       "41539                         0                                       0   \n",
       "41540                         0                                       0   \n",
       "41541                         0                                       0   \n",
       "41542                         0                                       0   \n",
       "41543                         0                                       0   \n",
       "\n",
       "       Number of Cellular phone  Number of Personal Computer  \\\n",
       "0                             2                            1   \n",
       "1                             3                            1   \n",
       "2                             0                            0   \n",
       "3                             1                            0   \n",
       "4                             3                            0   \n",
       "...                         ...                          ...   \n",
       "41539                         1                            0   \n",
       "41540                         3                            0   \n",
       "41541                         1                            0   \n",
       "41542                         2                            0   \n",
       "41543                         1                            0   \n",
       "\n",
       "       Number of Stove with Oven/Gas Range  Number of Motorized Banca  \\\n",
       "0                                        0                          0   \n",
       "1                                        0                          0   \n",
       "2                                        0                          0   \n",
       "3                                        0                          0   \n",
       "4                                        0                          0   \n",
       "...                                    ...                        ...   \n",
       "41539                                    0                          0   \n",
       "41540                                    0                          0   \n",
       "41541                                    0                          0   \n",
       "41542                                    0                          0   \n",
       "41543                                    0                          0   \n",
       "\n",
       "       Number of Motorcycle/Tricycle  \n",
       "0                                  1  \n",
       "1                                  2  \n",
       "2                                  0  \n",
       "3                                  0  \n",
       "4                                  1  \n",
       "...                              ...  \n",
       "41539                              0  \n",
       "41540                              0  \n",
       "41541                              0  \n",
       "41542                              0  \n",
       "41543                              0  \n",
       "\n",
       "[41544 rows x 60 columns]"
      ]
     },
     "execution_count": 2,
     "metadata": {},
     "output_type": "execute_result"
    }
   ],
   "source": [
    "fie"
   ]
  },
  {
   "cell_type": "code",
   "execution_count": 3,
   "metadata": {
    "scrolled": true
   },
   "outputs": [
    {
     "data": {
      "text/plain": [
       "Index(['Total Household Income', 'Region', 'Total Food Expenditure',\n",
       "       'Main Source of Income', 'Agricultural Household indicator',\n",
       "       'Bread and Cereals Expenditure', 'Total Rice Expenditure',\n",
       "       'Meat Expenditure', 'Total Fish and  marine products Expenditure',\n",
       "       'Fruit Expenditure', 'Vegetables Expenditure',\n",
       "       'Restaurant and hotels Expenditure', 'Alcoholic Beverages Expenditure',\n",
       "       'Tobacco Expenditure', 'Clothing, Footwear and Other Wear Expenditure',\n",
       "       'Housing and water Expenditure', 'Imputed House Rental Value',\n",
       "       'Medical Care Expenditure', 'Transportation Expenditure',\n",
       "       'Communication Expenditure', 'Education Expenditure',\n",
       "       'Miscellaneous Goods and Services Expenditure',\n",
       "       'Special Occasions Expenditure', 'Crop Farming and Gardening expenses',\n",
       "       'Total Income from Entrepreneurial Acitivites', 'Household Head Sex',\n",
       "       'Household Head Age', 'Household Head Marital Status',\n",
       "       'Household Head Highest Grade Completed',\n",
       "       'Household Head Job or Business Indicator', 'Household Head Occupation',\n",
       "       'Household Head Class of Worker', 'Type of Household',\n",
       "       'Total Number of Family members',\n",
       "       'Members with age less than 5 year old',\n",
       "       'Members with age 5 - 17 years old',\n",
       "       'Total number of family members employed', 'Type of Building/House',\n",
       "       'Type of Roof', 'Type of Walls', 'House Floor Area', 'House Age',\n",
       "       'Number of bedrooms', 'Tenure Status', 'Toilet Facilities',\n",
       "       'Electricity', 'Main Source of Water Supply', 'Number of Television',\n",
       "       'Number of CD/VCD/DVD', 'Number of Component/Stereo set',\n",
       "       'Number of Refrigerator/Freezer', 'Number of Washing Machine',\n",
       "       'Number of Airconditioner', 'Number of Car, Jeep, Van',\n",
       "       'Number of Landline/wireless telephones', 'Number of Cellular phone',\n",
       "       'Number of Personal Computer', 'Number of Stove with Oven/Gas Range',\n",
       "       'Number of Motorized Banca', 'Number of Motorcycle/Tricycle'],\n",
       "      dtype='object')"
      ]
     },
     "execution_count": 3,
     "metadata": {},
     "output_type": "execute_result"
    }
   ],
   "source": [
    "fie.columns"
   ]
  },
  {
   "cell_type": "markdown",
   "metadata": {},
   "source": [
    "### ปรับเปลี่ยนค่า null "
   ]
  },
  {
   "cell_type": "code",
   "execution_count": 4,
   "metadata": {},
   "outputs": [
    {
     "data": {
      "text/html": [
       "<div>\n",
       "<style scoped>\n",
       "    .dataframe tbody tr th:only-of-type {\n",
       "        vertical-align: middle;\n",
       "    }\n",
       "\n",
       "    .dataframe tbody tr th {\n",
       "        vertical-align: top;\n",
       "    }\n",
       "\n",
       "    .dataframe thead th {\n",
       "        text-align: right;\n",
       "    }\n",
       "</style>\n",
       "<table border=\"1\" class=\"dataframe\">\n",
       "  <thead>\n",
       "    <tr style=\"text-align: right;\">\n",
       "      <th></th>\n",
       "      <th>Total Household Income</th>\n",
       "      <th>Region</th>\n",
       "      <th>Total Food Expenditure</th>\n",
       "      <th>Main Source of Income</th>\n",
       "      <th>Agricultural Household indicator</th>\n",
       "      <th>Bread and Cereals Expenditure</th>\n",
       "      <th>Total Rice Expenditure</th>\n",
       "      <th>Meat Expenditure</th>\n",
       "      <th>Total Fish and  marine products Expenditure</th>\n",
       "      <th>Fruit Expenditure</th>\n",
       "      <th>...</th>\n",
       "      <th>Number of Refrigerator/Freezer</th>\n",
       "      <th>Number of Washing Machine</th>\n",
       "      <th>Number of Airconditioner</th>\n",
       "      <th>Number of Car, Jeep, Van</th>\n",
       "      <th>Number of Landline/wireless telephones</th>\n",
       "      <th>Number of Cellular phone</th>\n",
       "      <th>Number of Personal Computer</th>\n",
       "      <th>Number of Stove with Oven/Gas Range</th>\n",
       "      <th>Number of Motorized Banca</th>\n",
       "      <th>Number of Motorcycle/Tricycle</th>\n",
       "    </tr>\n",
       "  </thead>\n",
       "  <tbody>\n",
       "    <tr>\n",
       "      <th>0</th>\n",
       "      <td>480332</td>\n",
       "      <td>CAR</td>\n",
       "      <td>117848</td>\n",
       "      <td>Wage/Salaries</td>\n",
       "      <td>0</td>\n",
       "      <td>42140</td>\n",
       "      <td>38300</td>\n",
       "      <td>24676</td>\n",
       "      <td>16806</td>\n",
       "      <td>3325</td>\n",
       "      <td>...</td>\n",
       "      <td>1</td>\n",
       "      <td>1</td>\n",
       "      <td>0</td>\n",
       "      <td>0</td>\n",
       "      <td>0</td>\n",
       "      <td>2</td>\n",
       "      <td>1</td>\n",
       "      <td>0</td>\n",
       "      <td>0</td>\n",
       "      <td>1</td>\n",
       "    </tr>\n",
       "    <tr>\n",
       "      <th>1</th>\n",
       "      <td>198235</td>\n",
       "      <td>CAR</td>\n",
       "      <td>67766</td>\n",
       "      <td>Wage/Salaries</td>\n",
       "      <td>0</td>\n",
       "      <td>17329</td>\n",
       "      <td>13008</td>\n",
       "      <td>17434</td>\n",
       "      <td>11073</td>\n",
       "      <td>2035</td>\n",
       "      <td>...</td>\n",
       "      <td>0</td>\n",
       "      <td>1</td>\n",
       "      <td>0</td>\n",
       "      <td>0</td>\n",
       "      <td>0</td>\n",
       "      <td>3</td>\n",
       "      <td>1</td>\n",
       "      <td>0</td>\n",
       "      <td>0</td>\n",
       "      <td>2</td>\n",
       "    </tr>\n",
       "    <tr>\n",
       "      <th>2</th>\n",
       "      <td>82785</td>\n",
       "      <td>CAR</td>\n",
       "      <td>61609</td>\n",
       "      <td>Wage/Salaries</td>\n",
       "      <td>1</td>\n",
       "      <td>34182</td>\n",
       "      <td>32001</td>\n",
       "      <td>7783</td>\n",
       "      <td>2590</td>\n",
       "      <td>1730</td>\n",
       "      <td>...</td>\n",
       "      <td>0</td>\n",
       "      <td>0</td>\n",
       "      <td>0</td>\n",
       "      <td>0</td>\n",
       "      <td>0</td>\n",
       "      <td>0</td>\n",
       "      <td>0</td>\n",
       "      <td>0</td>\n",
       "      <td>0</td>\n",
       "      <td>0</td>\n",
       "    </tr>\n",
       "    <tr>\n",
       "      <th>3</th>\n",
       "      <td>107589</td>\n",
       "      <td>CAR</td>\n",
       "      <td>78189</td>\n",
       "      <td>Wage/Salaries</td>\n",
       "      <td>0</td>\n",
       "      <td>34030</td>\n",
       "      <td>28659</td>\n",
       "      <td>10914</td>\n",
       "      <td>10812</td>\n",
       "      <td>690</td>\n",
       "      <td>...</td>\n",
       "      <td>0</td>\n",
       "      <td>0</td>\n",
       "      <td>0</td>\n",
       "      <td>0</td>\n",
       "      <td>0</td>\n",
       "      <td>1</td>\n",
       "      <td>0</td>\n",
       "      <td>0</td>\n",
       "      <td>0</td>\n",
       "      <td>0</td>\n",
       "    </tr>\n",
       "    <tr>\n",
       "      <th>4</th>\n",
       "      <td>189322</td>\n",
       "      <td>CAR</td>\n",
       "      <td>94625</td>\n",
       "      <td>Wage/Salaries</td>\n",
       "      <td>0</td>\n",
       "      <td>34820</td>\n",
       "      <td>30167</td>\n",
       "      <td>18391</td>\n",
       "      <td>11309</td>\n",
       "      <td>1395</td>\n",
       "      <td>...</td>\n",
       "      <td>1</td>\n",
       "      <td>0</td>\n",
       "      <td>0</td>\n",
       "      <td>0</td>\n",
       "      <td>0</td>\n",
       "      <td>3</td>\n",
       "      <td>0</td>\n",
       "      <td>0</td>\n",
       "      <td>0</td>\n",
       "      <td>1</td>\n",
       "    </tr>\n",
       "    <tr>\n",
       "      <th>...</th>\n",
       "      <td>...</td>\n",
       "      <td>...</td>\n",
       "      <td>...</td>\n",
       "      <td>...</td>\n",
       "      <td>...</td>\n",
       "      <td>...</td>\n",
       "      <td>...</td>\n",
       "      <td>...</td>\n",
       "      <td>...</td>\n",
       "      <td>...</td>\n",
       "      <td>...</td>\n",
       "      <td>...</td>\n",
       "      <td>...</td>\n",
       "      <td>...</td>\n",
       "      <td>...</td>\n",
       "      <td>...</td>\n",
       "      <td>...</td>\n",
       "      <td>...</td>\n",
       "      <td>...</td>\n",
       "      <td>...</td>\n",
       "      <td>...</td>\n",
       "    </tr>\n",
       "    <tr>\n",
       "      <th>41539</th>\n",
       "      <td>119773</td>\n",
       "      <td>XII - SOCCSKSARGEN</td>\n",
       "      <td>44875</td>\n",
       "      <td>Enterpreneurial Activities</td>\n",
       "      <td>1</td>\n",
       "      <td>23675</td>\n",
       "      <td>21542</td>\n",
       "      <td>1476</td>\n",
       "      <td>6120</td>\n",
       "      <td>1632</td>\n",
       "      <td>...</td>\n",
       "      <td>0</td>\n",
       "      <td>0</td>\n",
       "      <td>0</td>\n",
       "      <td>0</td>\n",
       "      <td>0</td>\n",
       "      <td>1</td>\n",
       "      <td>0</td>\n",
       "      <td>0</td>\n",
       "      <td>0</td>\n",
       "      <td>0</td>\n",
       "    </tr>\n",
       "    <tr>\n",
       "      <th>41540</th>\n",
       "      <td>137320</td>\n",
       "      <td>XII - SOCCSKSARGEN</td>\n",
       "      <td>31157</td>\n",
       "      <td>Enterpreneurial Activities</td>\n",
       "      <td>1</td>\n",
       "      <td>2691</td>\n",
       "      <td>1273</td>\n",
       "      <td>1886</td>\n",
       "      <td>4386</td>\n",
       "      <td>1840</td>\n",
       "      <td>...</td>\n",
       "      <td>0</td>\n",
       "      <td>0</td>\n",
       "      <td>0</td>\n",
       "      <td>0</td>\n",
       "      <td>0</td>\n",
       "      <td>3</td>\n",
       "      <td>0</td>\n",
       "      <td>0</td>\n",
       "      <td>0</td>\n",
       "      <td>0</td>\n",
       "    </tr>\n",
       "    <tr>\n",
       "      <th>41541</th>\n",
       "      <td>133171</td>\n",
       "      <td>XII - SOCCSKSARGEN</td>\n",
       "      <td>45882</td>\n",
       "      <td>Enterpreneurial Activities</td>\n",
       "      <td>2</td>\n",
       "      <td>28646</td>\n",
       "      <td>27339</td>\n",
       "      <td>480</td>\n",
       "      <td>4796</td>\n",
       "      <td>1232</td>\n",
       "      <td>...</td>\n",
       "      <td>0</td>\n",
       "      <td>0</td>\n",
       "      <td>0</td>\n",
       "      <td>0</td>\n",
       "      <td>0</td>\n",
       "      <td>1</td>\n",
       "      <td>0</td>\n",
       "      <td>0</td>\n",
       "      <td>0</td>\n",
       "      <td>0</td>\n",
       "    </tr>\n",
       "    <tr>\n",
       "      <th>41542</th>\n",
       "      <td>129500</td>\n",
       "      <td>XII - SOCCSKSARGEN</td>\n",
       "      <td>81416</td>\n",
       "      <td>Enterpreneurial Activities</td>\n",
       "      <td>1</td>\n",
       "      <td>29996</td>\n",
       "      <td>26655</td>\n",
       "      <td>2359</td>\n",
       "      <td>17730</td>\n",
       "      <td>2923</td>\n",
       "      <td>...</td>\n",
       "      <td>0</td>\n",
       "      <td>0</td>\n",
       "      <td>0</td>\n",
       "      <td>0</td>\n",
       "      <td>0</td>\n",
       "      <td>2</td>\n",
       "      <td>0</td>\n",
       "      <td>0</td>\n",
       "      <td>0</td>\n",
       "      <td>0</td>\n",
       "    </tr>\n",
       "    <tr>\n",
       "      <th>41543</th>\n",
       "      <td>128598</td>\n",
       "      <td>XII - SOCCSKSARGEN</td>\n",
       "      <td>78195</td>\n",
       "      <td>Enterpreneurial Activities</td>\n",
       "      <td>1</td>\n",
       "      <td>43485</td>\n",
       "      <td>41205</td>\n",
       "      <td>1985</td>\n",
       "      <td>7735</td>\n",
       "      <td>2062</td>\n",
       "      <td>...</td>\n",
       "      <td>0</td>\n",
       "      <td>0</td>\n",
       "      <td>0</td>\n",
       "      <td>0</td>\n",
       "      <td>0</td>\n",
       "      <td>1</td>\n",
       "      <td>0</td>\n",
       "      <td>0</td>\n",
       "      <td>0</td>\n",
       "      <td>0</td>\n",
       "    </tr>\n",
       "  </tbody>\n",
       "</table>\n",
       "<p>41544 rows × 60 columns</p>\n",
       "</div>"
      ],
      "text/plain": [
       "       Total Household Income              Region  Total Food Expenditure  \\\n",
       "0                      480332                 CAR                  117848   \n",
       "1                      198235                 CAR                   67766   \n",
       "2                       82785                 CAR                   61609   \n",
       "3                      107589                 CAR                   78189   \n",
       "4                      189322                 CAR                   94625   \n",
       "...                       ...                 ...                     ...   \n",
       "41539                  119773  XII - SOCCSKSARGEN                   44875   \n",
       "41540                  137320  XII - SOCCSKSARGEN                   31157   \n",
       "41541                  133171  XII - SOCCSKSARGEN                   45882   \n",
       "41542                  129500  XII - SOCCSKSARGEN                   81416   \n",
       "41543                  128598  XII - SOCCSKSARGEN                   78195   \n",
       "\n",
       "            Main Source of Income  Agricultural Household indicator  \\\n",
       "0                   Wage/Salaries                                 0   \n",
       "1                   Wage/Salaries                                 0   \n",
       "2                   Wage/Salaries                                 1   \n",
       "3                   Wage/Salaries                                 0   \n",
       "4                   Wage/Salaries                                 0   \n",
       "...                           ...                               ...   \n",
       "41539  Enterpreneurial Activities                                 1   \n",
       "41540  Enterpreneurial Activities                                 1   \n",
       "41541  Enterpreneurial Activities                                 2   \n",
       "41542  Enterpreneurial Activities                                 1   \n",
       "41543  Enterpreneurial Activities                                 1   \n",
       "\n",
       "       Bread and Cereals Expenditure  Total Rice Expenditure  \\\n",
       "0                              42140                   38300   \n",
       "1                              17329                   13008   \n",
       "2                              34182                   32001   \n",
       "3                              34030                   28659   \n",
       "4                              34820                   30167   \n",
       "...                              ...                     ...   \n",
       "41539                          23675                   21542   \n",
       "41540                           2691                    1273   \n",
       "41541                          28646                   27339   \n",
       "41542                          29996                   26655   \n",
       "41543                          43485                   41205   \n",
       "\n",
       "       Meat Expenditure  Total Fish and  marine products Expenditure  \\\n",
       "0                 24676                                        16806   \n",
       "1                 17434                                        11073   \n",
       "2                  7783                                         2590   \n",
       "3                 10914                                        10812   \n",
       "4                 18391                                        11309   \n",
       "...                 ...                                          ...   \n",
       "41539              1476                                         6120   \n",
       "41540              1886                                         4386   \n",
       "41541               480                                         4796   \n",
       "41542              2359                                        17730   \n",
       "41543              1985                                         7735   \n",
       "\n",
       "       Fruit Expenditure  ...  Number of Refrigerator/Freezer  \\\n",
       "0                   3325  ...                               1   \n",
       "1                   2035  ...                               0   \n",
       "2                   1730  ...                               0   \n",
       "3                    690  ...                               0   \n",
       "4                   1395  ...                               1   \n",
       "...                  ...  ...                             ...   \n",
       "41539               1632  ...                               0   \n",
       "41540               1840  ...                               0   \n",
       "41541               1232  ...                               0   \n",
       "41542               2923  ...                               0   \n",
       "41543               2062  ...                               0   \n",
       "\n",
       "       Number of Washing Machine  Number of Airconditioner  \\\n",
       "0                              1                         0   \n",
       "1                              1                         0   \n",
       "2                              0                         0   \n",
       "3                              0                         0   \n",
       "4                              0                         0   \n",
       "...                          ...                       ...   \n",
       "41539                          0                         0   \n",
       "41540                          0                         0   \n",
       "41541                          0                         0   \n",
       "41542                          0                         0   \n",
       "41543                          0                         0   \n",
       "\n",
       "       Number of Car, Jeep, Van  Number of Landline/wireless telephones  \\\n",
       "0                             0                                       0   \n",
       "1                             0                                       0   \n",
       "2                             0                                       0   \n",
       "3                             0                                       0   \n",
       "4                             0                                       0   \n",
       "...                         ...                                     ...   \n",
       "41539                         0                                       0   \n",
       "41540                         0                                       0   \n",
       "41541                         0                                       0   \n",
       "41542                         0                                       0   \n",
       "41543                         0                                       0   \n",
       "\n",
       "       Number of Cellular phone  Number of Personal Computer  \\\n",
       "0                             2                            1   \n",
       "1                             3                            1   \n",
       "2                             0                            0   \n",
       "3                             1                            0   \n",
       "4                             3                            0   \n",
       "...                         ...                          ...   \n",
       "41539                         1                            0   \n",
       "41540                         3                            0   \n",
       "41541                         1                            0   \n",
       "41542                         2                            0   \n",
       "41543                         1                            0   \n",
       "\n",
       "       Number of Stove with Oven/Gas Range  Number of Motorized Banca  \\\n",
       "0                                        0                          0   \n",
       "1                                        0                          0   \n",
       "2                                        0                          0   \n",
       "3                                        0                          0   \n",
       "4                                        0                          0   \n",
       "...                                    ...                        ...   \n",
       "41539                                    0                          0   \n",
       "41540                                    0                          0   \n",
       "41541                                    0                          0   \n",
       "41542                                    0                          0   \n",
       "41543                                    0                          0   \n",
       "\n",
       "       Number of Motorcycle/Tricycle  \n",
       "0                                  1  \n",
       "1                                  2  \n",
       "2                                  0  \n",
       "3                                  0  \n",
       "4                                  1  \n",
       "...                              ...  \n",
       "41539                              0  \n",
       "41540                              0  \n",
       "41541                              0  \n",
       "41542                              0  \n",
       "41543                              0  \n",
       "\n",
       "[41544 rows x 60 columns]"
      ]
     },
     "execution_count": 4,
     "metadata": {},
     "output_type": "execute_result"
    }
   ],
   "source": [
    "fie.loc[fie[\"Household Head Occupation\"].isnull(),[\"Household Head Occupation\"]] ='Unknown'\n",
    "fie.loc[fie[\"Household Head Class of Worker\"].isnull(),[\"Household Head Class of Worker\"]] = 'Unknown'\n",
    "fie"
   ]
  },
  {
   "cell_type": "code",
   "execution_count": 5,
   "metadata": {
    "scrolled": true
   },
   "outputs": [
    {
     "data": {
      "text/plain": [
       "['Total Food Expenditure',\n",
       " 'Bread and Cereals Expenditure',\n",
       " 'Total Rice Expenditure',\n",
       " 'Meat Expenditure',\n",
       " 'Total Fish and  marine products Expenditure',\n",
       " 'Fruit Expenditure',\n",
       " 'Vegetables Expenditure',\n",
       " 'Restaurant and hotels Expenditure',\n",
       " 'Alcoholic Beverages Expenditure',\n",
       " 'Tobacco Expenditure',\n",
       " 'Clothing, Footwear and Other Wear Expenditure',\n",
       " 'Housing and water Expenditure',\n",
       " 'Medical Care Expenditure',\n",
       " 'Transportation Expenditure',\n",
       " 'Communication Expenditure',\n",
       " 'Education Expenditure',\n",
       " 'Miscellaneous Goods and Services Expenditure',\n",
       " 'Special Occasions Expenditure']"
      ]
     },
     "execution_count": 5,
     "metadata": {},
     "output_type": "execute_result"
    }
   ],
   "source": [
    "expenditure_col= []\n",
    "for i in fie.columns:\n",
    "    if (\"Expenditure\" in i) :\n",
    "        expenditure_col.append(i)\n",
    "expenditure_col"
   ]
  },
  {
   "cell_type": "markdown",
   "metadata": {},
   "source": [
    "## 3. กระบวนการ Machine learning\n",
    "### โจทย์การวิเคราะห์เชิงลึก - ในแต่ละครอบครัวมีการใช้จ่ายค่าอาหารและค่าวัตถุดิบอย่างไร"
   ]
  },
  {
   "cell_type": "markdown",
   "metadata": {},
   "source": [
    "### จุดมุ่งหมายของโมเดลทั้งหมด\n",
    "- เพื่อทำนายค่าใช้จ่ายในด้านของอาหารและวัตถุดิบในการทำอาหารจากปัจจัยต่างๆของแต่ละครัวเรือน\n",
    "- นำมาประกอบการตัดสินใจหรือวางแผนในการใช้เงินในอนาคตได้\n",
    "- เพื่อเป็นแนวทางแต่ละครัวเรือนมีความจำเป็นในวัตถุดิบประเภทไหนมาก อาจนำมาใช้ในการลงทุนได้\n",
    "- เพื่อทดสอบความสัมพันธ์ของคอลัมป์ที่เป็นค่าใช้จ่ายในด้านอาหารและวัตถุดิบ ขึ้นอยู่กับคอลัมป์ใดบ้าง"
   ]
  },
  {
   "cell_type": "markdown",
   "metadata": {},
   "source": [
    "#### เลือกตัวแปรต้นที่อาจส่งผลต่อค่าอาหารและวัตถุดิบทั้งหมด\n",
    "- Total Household Income\n",
    "- Total Number of Family members\n",
    "- Members with age less than 5 year old\n",
    "- Members with age 5 - 17 years old\n",
    "- Total number of family members employed\n",
    "- Type of Household"
   ]
  },
  {
   "cell_type": "markdown",
   "metadata": {},
   "source": [
    "### 3.1 สร้างโมเดลเพื่อทำนายค่าอาหาร(Total Food Expenditure) โดยใช้ Regression"
   ]
  },
  {
   "cell_type": "markdown",
   "metadata": {},
   "source": [
    "#### Splitting data into training and testing sets - สร้างชุดทดลองและชุดทดสอบ"
   ]
  },
  {
   "cell_type": "code",
   "execution_count": 6,
   "metadata": {},
   "outputs": [],
   "source": [
    "X = pd.get_dummies(fie.loc[:,['Total Household Income','Total Number of Family members','Members with age less than 5 year old',\n",
    "               'Members with age 5 - 17 years old','Total number of family members employed','Type of Household']])\n",
    "y = fie[\"Total Food Expenditure\"]\n",
    "X_train, X_test, y_train, y_test = train_test_split(X, y)"
   ]
  },
  {
   "cell_type": "markdown",
   "metadata": {},
   "source": [
    "#### เรียกใช้ Linear Regression แล้วนำข้อมูลที่ split ไว้มา fit"
   ]
  },
  {
   "cell_type": "code",
   "execution_count": 7,
   "metadata": {},
   "outputs": [
    {
     "data": {
      "text/plain": [
       "LinearRegression()"
      ]
     },
     "execution_count": 7,
     "metadata": {},
     "output_type": "execute_result"
    }
   ],
   "source": [
    "tf = LinearRegression()\n",
    "tf.fit(X_train, y_train)"
   ]
  },
  {
   "cell_type": "code",
   "execution_count": 8,
   "metadata": {},
   "outputs": [
    {
     "data": {
      "text/plain": [
       "(array([ 1.02134320e-01,  8.43205674e+03, -4.69671330e+03, -2.55160624e+03,\n",
       "         3.53357144e+03, -1.08760144e+03, -3.25784494e+03,  4.34544638e+03]),\n",
       " 24108.32792758903)"
      ]
     },
     "execution_count": 8,
     "metadata": {},
     "output_type": "execute_result"
    }
   ],
   "source": [
    "tf.coef_, tf.intercept_"
   ]
  },
  {
   "cell_type": "markdown",
   "metadata": {},
   "source": [
    "#### วัดประสิทธิภาพของโมเดลการทำนายโดยคำนวณค่า $R^2$ จากฟังก์ชัน score()"
   ]
  },
  {
   "cell_type": "code",
   "execution_count": 9,
   "metadata": {
    "scrolled": false
   },
   "outputs": [
    {
     "data": {
      "text/plain": [
       "0.5913002386127275"
      ]
     },
     "execution_count": 9,
     "metadata": {},
     "output_type": "execute_result"
    }
   ],
   "source": [
    "tf.score(X_test, y_test)"
   ]
  },
  {
   "cell_type": "code",
   "execution_count": 10,
   "metadata": {},
   "outputs": [
    {
     "name": "stdout",
     "output_type": "stream",
     "text": [
      "Coefficient of determination = 59.130024%\n"
     ]
    }
   ],
   "source": [
    "print('Coefficient of determination = %f%%' %(tf.score(X_test, y_test)*100))"
   ]
  },
  {
   "cell_type": "markdown",
   "metadata": {},
   "source": [
    "จะได้ว่าความแปรปรวนที่ลดลงไปเมื่อใช้โมเดลนี้ทำนายค่าอาหาร เท่ากับ 59.13% กล่าวได้ว่าโมเดลการทำนายมีประสิทธิภาพ 59.13%"
   ]
  },
  {
   "cell_type": "markdown",
   "metadata": {},
   "source": [
    "### 3.2 สร้างโมเดลเพื่อทำนายค่าวัตถุดิบจำพวกขนมปัง(Bread and Cereals Expenditure) โดยใช้ Regression"
   ]
  },
  {
   "cell_type": "markdown",
   "metadata": {},
   "source": [
    "#### Splitting data into training and testing sets - สร้างชุดทดลองและชุดทดสอบ"
   ]
  },
  {
   "cell_type": "code",
   "execution_count": 11,
   "metadata": {},
   "outputs": [],
   "source": [
    "X = pd.get_dummies(fie.loc[:,['Total Household Income','Total Number of Family members','Members with age less than 5 year old',\n",
    "               'Members with age 5 - 17 years old','Total number of family members employed','Type of Household']])\n",
    "y = fie[\"Bread and Cereals Expenditure\"]\n",
    "X_train, X_test, y_train, y_test = train_test_split(X, y)"
   ]
  },
  {
   "cell_type": "markdown",
   "metadata": {},
   "source": [
    "#### เรียกใช้ Linear Regression แล้วนำข้อมูลที่ split ไว้มา fit"
   ]
  },
  {
   "cell_type": "code",
   "execution_count": 12,
   "metadata": {},
   "outputs": [
    {
     "data": {
      "text/plain": [
       "LinearRegression()"
      ]
     },
     "execution_count": 12,
     "metadata": {},
     "output_type": "execute_result"
    }
   ],
   "source": [
    "bce = LinearRegression()\n",
    "bce.fit(X_train, y_train)"
   ]
  },
  {
   "cell_type": "code",
   "execution_count": 13,
   "metadata": {},
   "outputs": [
    {
     "data": {
      "text/plain": [
       "(array([ 8.17569284e-03,  3.83124530e+03, -2.00474944e+03, -2.53912317e+02,\n",
       "         1.97552497e+02, -7.43119296e+02, -7.24447932e+02,  1.46756723e+03]),\n",
       " 7004.730745056666)"
      ]
     },
     "execution_count": 13,
     "metadata": {},
     "output_type": "execute_result"
    }
   ],
   "source": [
    "bce.coef_, bce.intercept_"
   ]
  },
  {
   "cell_type": "markdown",
   "metadata": {},
   "source": [
    "#### วัดประสิทธิภาพของโมเดลการทำนายโดยคำนวณค่า $R^2$ จากฟังก์ชัน score()"
   ]
  },
  {
   "cell_type": "code",
   "execution_count": 14,
   "metadata": {},
   "outputs": [
    {
     "data": {
      "text/plain": [
       "0.45834706389474866"
      ]
     },
     "execution_count": 14,
     "metadata": {},
     "output_type": "execute_result"
    }
   ],
   "source": [
    "bce.score(X_test, y_test)"
   ]
  },
  {
   "cell_type": "code",
   "execution_count": 15,
   "metadata": {},
   "outputs": [
    {
     "name": "stdout",
     "output_type": "stream",
     "text": [
      "Coefficient of determination = 45.834706%\n"
     ]
    }
   ],
   "source": [
    "print('Coefficient of determination = %f%%' %(bce.score(X_test, y_test)*100))"
   ]
  },
  {
   "cell_type": "markdown",
   "metadata": {},
   "source": [
    "จะได้ว่าความแปรปรวนที่ลดลงไปเมื่อใช้โมเดลนี้ทำนายค่าวัตถุดิบจำพวกขนมปัง เท่ากับ 45.83% กล่าวได้ว่าโมเดลการทำนายมีประสิทธิภาพ 45.83%"
   ]
  },
  {
   "cell_type": "markdown",
   "metadata": {},
   "source": [
    "### 3.3 สร้างโมเดลเพื่อทำนายค่าข้าว(Total Rice Expenditure) โดยใช้ Regression"
   ]
  },
  {
   "cell_type": "markdown",
   "metadata": {},
   "source": [
    "#### Splitting data into training and testing sets - สร้างชุดทดลองและชุดทดสอบ"
   ]
  },
  {
   "cell_type": "code",
   "execution_count": 16,
   "metadata": {},
   "outputs": [],
   "source": [
    "X = pd.get_dummies(fie.loc[:,['Total Household Income','Total Number of Family members','Members with age less than 5 year old',\n",
    "               'Members with age 5 - 17 years old','Total number of family members employed','Type of Household']])\n",
    "y = fie[\"Total Rice Expenditure\"]\n",
    "X_train, X_test, y_train, y_test = train_test_split(X, y)"
   ]
  },
  {
   "cell_type": "markdown",
   "metadata": {},
   "source": [
    "#### เรียกใช้ Linear Regression แล้วนำข้อมูลที่ split ไว้มา fit"
   ]
  },
  {
   "cell_type": "code",
   "execution_count": 17,
   "metadata": {},
   "outputs": [
    {
     "data": {
      "text/plain": [
       "LinearRegression()"
      ]
     },
     "execution_count": 17,
     "metadata": {},
     "output_type": "execute_result"
    }
   ],
   "source": [
    "tre = LinearRegression()\n",
    "tre.fit(X_train, y_train)"
   ]
  },
  {
   "cell_type": "code",
   "execution_count": 18,
   "metadata": {},
   "outputs": [
    {
     "data": {
      "text/plain": [
       "(array([ 2.90825240e-03,  3.14706837e+03, -1.87033416e+03, -2.95584794e+02,\n",
       "         1.49313863e+02, -5.00268415e+02, -3.30581559e+02,  8.30849974e+02]),\n",
       " 4275.103902200848)"
      ]
     },
     "execution_count": 18,
     "metadata": {},
     "output_type": "execute_result"
    }
   ],
   "source": [
    "tre.coef_, tre.intercept_"
   ]
  },
  {
   "cell_type": "markdown",
   "metadata": {},
   "source": [
    "#### วัดประสิทธิภาพของโมเดลการทำนายโดยคำนวณค่า $R^2$ จากฟังก์ชัน score()"
   ]
  },
  {
   "cell_type": "code",
   "execution_count": 19,
   "metadata": {},
   "outputs": [
    {
     "data": {
      "text/plain": [
       "0.35890868436755585"
      ]
     },
     "execution_count": 19,
     "metadata": {},
     "output_type": "execute_result"
    }
   ],
   "source": [
    "tre.score(X_test, y_test)"
   ]
  },
  {
   "cell_type": "code",
   "execution_count": 20,
   "metadata": {},
   "outputs": [
    {
     "name": "stdout",
     "output_type": "stream",
     "text": [
      "Coefficient of determination = 35.890868%\n"
     ]
    }
   ],
   "source": [
    "print('Coefficient of determination = %f%%' %(tre.score(X_test, y_test)*100))"
   ]
  },
  {
   "cell_type": "markdown",
   "metadata": {},
   "source": [
    "จะได้ว่าความแปรปรวนที่ลดลงไปเมื่อใช้โมเดลนี้ทำนายค่าวัตถุดิบจำพวกขนมปัง เท่ากับ 35.89% กล่าวได้ว่าโมเดลการทำนายมีประสิทธิภาพ 35.89%"
   ]
  },
  {
   "cell_type": "markdown",
   "metadata": {},
   "source": [
    "### 3.4 สร้างโมเดลเพื่อทำนายค่าวัตถุดิบจำพวกเนื้อสัตว์(Meat Expenditure) โดยใช้ Regression"
   ]
  },
  {
   "cell_type": "markdown",
   "metadata": {},
   "source": [
    "#### Splitting data into training and testing sets - สร้างชุดทดลองและชุดทดสอบ"
   ]
  },
  {
   "cell_type": "code",
   "execution_count": 21,
   "metadata": {},
   "outputs": [],
   "source": [
    "X = pd.get_dummies(fie.loc[:,['Total Household Income','Total Number of Family members','Members with age less than 5 year old',\n",
    "               'Members with age 5 - 17 years old','Total number of family members employed','Type of Household']])\n",
    "y = fie[\"Meat Expenditure\"]\n",
    "X_train, X_test, y_train, y_test = train_test_split(X, y)"
   ]
  },
  {
   "cell_type": "markdown",
   "metadata": {},
   "source": [
    "#### เรียกใช้ Linear Regression แล้วนำข้อมูลที่ split ไว้มา fit"
   ]
  },
  {
   "cell_type": "code",
   "execution_count": 22,
   "metadata": {},
   "outputs": [
    {
     "data": {
      "text/plain": [
       "LinearRegression()"
      ]
     },
     "execution_count": 22,
     "metadata": {},
     "output_type": "execute_result"
    }
   ],
   "source": [
    "me = LinearRegression()\n",
    "me.fit(X_train, y_train)"
   ]
  },
  {
   "cell_type": "code",
   "execution_count": 23,
   "metadata": {},
   "outputs": [
    {
     "data": {
      "text/plain": [
       "(array([ 1.83485802e-02,  7.09605304e+02, -8.15636930e+02, -3.95038188e+02,\n",
       "         7.66659602e+02,  2.50037971e+02, -9.68400617e+02,  7.18362646e+02]),\n",
       " 3167.6013113293366)"
      ]
     },
     "execution_count": 23,
     "metadata": {},
     "output_type": "execute_result"
    }
   ],
   "source": [
    "me.coef_, me.intercept_"
   ]
  },
  {
   "cell_type": "markdown",
   "metadata": {},
   "source": [
    "#### วัดประสิทธิภาพของโมเดลการทำนายโดยคำนวณค่า $R^2$ จากฟังก์ชัน score()"
   ]
  },
  {
   "cell_type": "code",
   "execution_count": 24,
   "metadata": {
    "scrolled": true
   },
   "outputs": [
    {
     "data": {
      "text/plain": [
       "0.3588539226881763"
      ]
     },
     "execution_count": 24,
     "metadata": {},
     "output_type": "execute_result"
    }
   ],
   "source": [
    "me.score(X_test, y_test)"
   ]
  },
  {
   "cell_type": "code",
   "execution_count": 25,
   "metadata": {},
   "outputs": [
    {
     "name": "stdout",
     "output_type": "stream",
     "text": [
      "Coefficient of determination = 35.885392%\n"
     ]
    }
   ],
   "source": [
    "print('Coefficient of determination = %f%%' %(me.score(X_test, y_test)*100))"
   ]
  },
  {
   "cell_type": "markdown",
   "metadata": {},
   "source": [
    "จะได้ว่าความแปรปรวนที่ลดลงไปเมื่อใช้โมเดลนี้ทำนายค่าวัตถุดิบจำพวกขนมปัง เท่ากับ 35.88% กล่าวได้ว่าโมเดลการทำนายมีประสิทธิภาพ 35.88%"
   ]
  },
  {
   "cell_type": "markdown",
   "metadata": {},
   "source": [
    "### 3.5 สร้างโมเดลเพื่อทำนายค่าวัตถุดิบทางทะเล(Total Fish and  marine products Expenditure) โดยใช้ Regression"
   ]
  },
  {
   "cell_type": "markdown",
   "metadata": {},
   "source": [
    "#### Splitting data into training and testing sets - สร้างชุดทดลองและชุดทดสอบ"
   ]
  },
  {
   "cell_type": "code",
   "execution_count": 26,
   "metadata": {},
   "outputs": [],
   "source": [
    "X = pd.get_dummies(fie.loc[:,['Total Household Income','Total Number of Family members','Members with age less than 5 year old',\n",
    "               'Members with age 5 - 17 years old','Total number of family members employed','Type of Household']])\n",
    "y = fie[\"Total Fish and  marine products Expenditure\"]\n",
    "X_train, X_test, y_train, y_test = train_test_split(X, y)"
   ]
  },
  {
   "cell_type": "markdown",
   "metadata": {},
   "source": [
    "#### เรียกใช้ Linear Regression แล้วนำข้อมูลที่ split ไว้มา fit"
   ]
  },
  {
   "cell_type": "code",
   "execution_count": 27,
   "metadata": {},
   "outputs": [
    {
     "data": {
      "text/plain": [
       "LinearRegression()"
      ]
     },
     "execution_count": 27,
     "metadata": {},
     "output_type": "execute_result"
    }
   ],
   "source": [
    "tfmpe = LinearRegression()\n",
    "tfmpe.fit(X_train, y_train)"
   ]
  },
  {
   "cell_type": "code",
   "execution_count": 28,
   "metadata": {},
   "outputs": [
    {
     "data": {
      "text/plain": [
       "(array([ 9.13270367e-03,  1.45081105e+03, -1.25729438e+03, -6.88288609e+02,\n",
       "        -2.90382434e+02, -1.26268626e+02,  6.99771901e+01,  5.62914357e+01]),\n",
       " 3358.9642572068897)"
      ]
     },
     "execution_count": 28,
     "metadata": {},
     "output_type": "execute_result"
    }
   ],
   "source": [
    "tfmpe.coef_, tfmpe.intercept_"
   ]
  },
  {
   "cell_type": "markdown",
   "metadata": {},
   "source": [
    "#### วัดประสิทธิภาพของโมเดลการทำนายโดยคำนวณค่า $R^2$ จากฟังก์ชัน score()"
   ]
  },
  {
   "cell_type": "code",
   "execution_count": 29,
   "metadata": {},
   "outputs": [
    {
     "data": {
      "text/plain": [
       "0.22527366289574402"
      ]
     },
     "execution_count": 29,
     "metadata": {},
     "output_type": "execute_result"
    }
   ],
   "source": [
    "tfmpe.score(X_test, y_test)"
   ]
  },
  {
   "cell_type": "code",
   "execution_count": 30,
   "metadata": {},
   "outputs": [
    {
     "name": "stdout",
     "output_type": "stream",
     "text": [
      "Coefficient of determination = 22.527366%\n"
     ]
    }
   ],
   "source": [
    "print('Coefficient of determination = %f%%' %(tfmpe.score(X_test, y_test)*100))"
   ]
  },
  {
   "cell_type": "markdown",
   "metadata": {},
   "source": [
    "จะได้ว่าความแปรปรวนที่ลดลงไปเมื่อใช้โมเดลนี้ทำนายค่าวัตถุดิบจำพวกขนมปัง เท่ากับ 22.52% กล่าวได้ว่าโมเดลการทำนายมีประสิทธิภาพ 22.52%"
   ]
  },
  {
   "cell_type": "markdown",
   "metadata": {},
   "source": [
    "### 3.6 สร้างโมเดลเพื่อทำนายค่าวัตถุดิบจำพวกผลไม้(Fruit Expenditure) โดยใช้ Regression"
   ]
  },
  {
   "cell_type": "markdown",
   "metadata": {},
   "source": [
    "#### Splitting data into training and testing sets - สร้างชุดทดลองและชุดทดสอบ"
   ]
  },
  {
   "cell_type": "code",
   "execution_count": 31,
   "metadata": {},
   "outputs": [],
   "source": [
    "X = pd.get_dummies(fie.loc[:,['Total Household Income','Total Number of Family members','Members with age less than 5 year old',\n",
    "               'Members with age 5 - 17 years old','Total number of family members employed','Type of Household']])\n",
    "y = fie[\"Fruit Expenditure\"]\n",
    "X_train, X_test, y_train, y_test = train_test_split(X, y)"
   ]
  },
  {
   "cell_type": "markdown",
   "metadata": {},
   "source": [
    "#### เรียกใช้ Linear Regression แล้วนำข้อมูลที่ split ไว้มา fit"
   ]
  },
  {
   "cell_type": "code",
   "execution_count": 32,
   "metadata": {},
   "outputs": [
    {
     "data": {
      "text/plain": [
       "LinearRegression()"
      ]
     },
     "execution_count": 32,
     "metadata": {},
     "output_type": "execute_result"
    }
   ],
   "source": [
    "fe = LinearRegression()\n",
    "fe.fit(X_train, y_train)"
   ]
  },
  {
   "cell_type": "code",
   "execution_count": 33,
   "metadata": {},
   "outputs": [
    {
     "data": {
      "text/plain": [
       "(array([ 4.44924093e-03,  1.57461381e+02, -1.80762237e+02, -1.18059292e+02,\n",
       "        -1.09094556e+02, -2.37326248e+01, -1.16529121e+02,  1.40261746e+02]),\n",
       " 1178.335194909068)"
      ]
     },
     "execution_count": 33,
     "metadata": {},
     "output_type": "execute_result"
    }
   ],
   "source": [
    "fe.coef_, fe.intercept_"
   ]
  },
  {
   "cell_type": "markdown",
   "metadata": {},
   "source": [
    "#### วัดประสิทธิภาพของโมเดลการทำนายโดยคำนวณค่า $R^2$ จากฟังก์ชัน score()"
   ]
  },
  {
   "cell_type": "code",
   "execution_count": 34,
   "metadata": {},
   "outputs": [
    {
     "data": {
      "text/plain": [
       "0.25245802052785093"
      ]
     },
     "execution_count": 34,
     "metadata": {},
     "output_type": "execute_result"
    }
   ],
   "source": [
    "fe.score(X_test, y_test)"
   ]
  },
  {
   "cell_type": "code",
   "execution_count": 35,
   "metadata": {},
   "outputs": [
    {
     "name": "stdout",
     "output_type": "stream",
     "text": [
      "Coefficient of determination = 25.245802%\n"
     ]
    }
   ],
   "source": [
    "print('Coefficient of determination = %f%%' %(fe.score(X_test, y_test)*100))"
   ]
  },
  {
   "cell_type": "markdown",
   "metadata": {},
   "source": [
    "จะได้ว่าความแปรปรวนที่ลดลงไปเมื่อใช้โมเดลนี้ทำนายค่าวัตถุดิบจำพวกขนมปัง เท่ากับ 25.24% กล่าวได้ว่าโมเดลการทำนายมีประสิทธิภาพ 25.24%"
   ]
  },
  {
   "cell_type": "markdown",
   "metadata": {},
   "source": [
    "### 3.7 สร้างโมเดลเพื่อทำนายค่าวัตถุดิบจำพวกผัก(Vegetables Expenditure) โดยใช้ Regression"
   ]
  },
  {
   "cell_type": "markdown",
   "metadata": {},
   "source": [
    "#### Splitting data into training and testing sets - สร้างชุดทดลองและชุดทดสอบ"
   ]
  },
  {
   "cell_type": "code",
   "execution_count": 36,
   "metadata": {},
   "outputs": [],
   "source": [
    "X = pd.get_dummies(fie.loc[:,['Total Household Income','Total Number of Family members','Members with age less than 5 year old',\n",
    "               'Members with age 5 - 17 years old','Total number of family members employed','Type of Household']])\n",
    "y = fie[\"Vegetables Expenditure\"]\n",
    "X_train, X_test, y_train, y_test = train_test_split(X, y)"
   ]
  },
  {
   "cell_type": "markdown",
   "metadata": {},
   "source": [
    "#### เรียกใช้ Linear Regression แล้วนำข้อมูลที่ split ไว้มา fit"
   ]
  },
  {
   "cell_type": "code",
   "execution_count": 37,
   "metadata": {},
   "outputs": [
    {
     "data": {
      "text/plain": [
       "LinearRegression()"
      ]
     },
     "execution_count": 37,
     "metadata": {},
     "output_type": "execute_result"
    }
   ],
   "source": [
    "ve = LinearRegression()\n",
    "ve.fit(X_train, y_train)"
   ]
  },
  {
   "cell_type": "code",
   "execution_count": 38,
   "metadata": {},
   "outputs": [
    {
     "data": {
      "text/plain": [
       "(array([ 3.52069795e-03,  5.12885998e+02, -4.74264629e+02, -2.12756203e+02,\n",
       "        -5.70965450e+01, -2.68829102e+02, -3.52512269e+02,  6.21341371e+02]),\n",
       " 2641.1840381851107)"
      ]
     },
     "execution_count": 38,
     "metadata": {},
     "output_type": "execute_result"
    }
   ],
   "source": [
    "ve.coef_, ve.intercept_"
   ]
  },
  {
   "cell_type": "markdown",
   "metadata": {},
   "source": [
    "#### วัดประสิทธิภาพของโมเดลการทำนายโดยคำนวณค่า $R^2$ จากฟังก์ชัน score()"
   ]
  },
  {
   "cell_type": "code",
   "execution_count": 39,
   "metadata": {},
   "outputs": [
    {
     "data": {
      "text/plain": [
       "0.2151818291660652"
      ]
     },
     "execution_count": 39,
     "metadata": {},
     "output_type": "execute_result"
    }
   ],
   "source": [
    "ve.score(X_test, y_test)"
   ]
  },
  {
   "cell_type": "code",
   "execution_count": 40,
   "metadata": {},
   "outputs": [
    {
     "name": "stdout",
     "output_type": "stream",
     "text": [
      "Coefficient of determination = 21.518183%\n"
     ]
    }
   ],
   "source": [
    "print('Coefficient of determination = %f%%' %(ve.score(X_test, y_test)*100))"
   ]
  },
  {
   "cell_type": "markdown",
   "metadata": {},
   "source": [
    "จะได้ว่าความแปรปรวนที่ลดลงไปเมื่อใช้โมเดลนี้ทำนายค่าวัตถุดิบจำพวกขนมปังประมาณ 21.51% หรือกล่าวได้ว่าโมเดลการทำนายมีประสิทธิภาพ 21.51%"
   ]
  },
  {
   "cell_type": "markdown",
   "metadata": {},
   "source": [
    "#### จากกระบวน Machine learning แบบ Regression ข้างต้น จะได้โมเดลในการหาค่าอาหารและวัตถุดิบมาทั้งหมด 7 โมเดลด้วยกัน จากนั้นจะต้องนำไปคำนวณโดยการรวมผลของการทำนายที่ได้เข้าด้วยกัน เราจะได้ค่าใช้จ่ายในด้านอาหารและวัตถุดิบในการทำอาหารทั้งหมด"
   ]
  },
  {
   "cell_type": "markdown",
   "metadata": {},
   "source": [
    "## 4. อธิบายสรุปผล"
   ]
  },
  {
   "cell_type": "markdown",
   "metadata": {},
   "source": [
    "#### ข้อมูลที่จำเป็นสำหรับการคำนวณและทำนายในโมเดลข้างต้นในข้อ 3 มีดังนี้\n",
    "- Total Household Income\n",
    "- Total Number of Family members\n",
    "- Members with age less than 5 year old\n",
    "- Members with age 5 - 17 years old\n",
    "- Total number of family members employed\n",
    "- Type of Household"
   ]
  },
  {
   "cell_type": "markdown",
   "metadata": {},
   "source": [
    "#### แต่ละโมเดลทำนายอะไร\n",
    "- \n",
    "- \n",
    "- \n",
    "- "
   ]
  },
  {
   "cell_type": "markdown",
   "metadata": {},
   "source": [
    "#### ประโยชน์ของโมเดลและการนำโมเดลไปใช้\n",
    "- สามารถนำไปประกอบการวางแผนการใช้จ่ายให้ดีหรือประหยัดขึ้นได้\n",
    "-\n",
    "-\n",
    "-"
   ]
  },
  {
   "cell_type": "markdown",
   "metadata": {},
   "source": [
    "#### วิเคราะห์โมเดล\n",
    "- \n",
    "- \n",
    "- \n",
    "- \n",
    "- \n",
    "- \n",
    "- "
   ]
  },
  {
   "cell_type": "code",
   "execution_count": null,
   "metadata": {},
   "outputs": [],
   "source": []
  }
 ],
 "metadata": {
  "kernelspec": {
   "display_name": "Python 3",
   "language": "python",
   "name": "python3"
  },
  "language_info": {
   "codemirror_mode": {
    "name": "ipython",
    "version": 3
   },
   "file_extension": ".py",
   "mimetype": "text/x-python",
   "name": "python",
   "nbconvert_exporter": "python",
   "pygments_lexer": "ipython3",
   "version": "3.8.5"
  }
 },
 "nbformat": 4,
 "nbformat_minor": 4
}
